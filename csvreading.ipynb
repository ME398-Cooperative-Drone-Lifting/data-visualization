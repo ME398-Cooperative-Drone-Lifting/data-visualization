{
 "cells": [
  {
   "cell_type": "code",
   "execution_count": 1,
   "metadata": {},
   "outputs": [],
   "source": [
    "import pandas as pd"
   ]
  },
  {
   "cell_type": "code",
   "execution_count": 2,
   "metadata": {},
   "outputs": [
    {
     "name": "stdout",
     "output_type": "stream",
     "text": [
      "      x_loc     y_loc     z_loc  time\n",
      "0  0.000000  0.000000  0.000000     0\n",
      "1 -1.124782  0.729219  0.935777     1\n",
      "2 -1.468500  1.293592  1.214791     2\n",
      "3 -4.393389  3.210486  1.492844     3\n",
      "4 -3.856404  5.113608  2.451363     4\n"
     ]
    }
   ],
   "source": [
    "df = pd.read_csv('sampledata.csv')\n",
    "print(df.head())"
   ]
  },
  {
   "cell_type": "code",
   "execution_count": 4,
   "metadata": {},
   "outputs": [
    {
     "data": {
      "text/plain": [
       "0      0.000000\n",
       "1     -1.124782\n",
       "2     -1.468500\n",
       "3     -4.393389\n",
       "4     -3.856404\n",
       "        ...    \n",
       "84   -36.446751\n",
       "85   -38.222802\n",
       "86   -39.702061\n",
       "87   -41.807640\n",
       "88   -43.775383\n",
       "Name: x_loc, Length: 89, dtype: float64"
      ]
     },
     "execution_count": 4,
     "metadata": {},
     "output_type": "execute_result"
    }
   ],
   "source": [
    "df['x_loc']"
   ]
  },
  {
   "cell_type": "code",
   "execution_count": 7,
   "metadata": {},
   "outputs": [
    {
     "name": "stdout",
     "output_type": "stream",
     "text": [
      "['x_loc', 'y_loc', 'z_loc', 'time']\n"
     ]
    }
   ],
   "source": [
    "df['x_loc'][1]\n",
    "headers = list(df)\n",
    "print(headers)"
   ]
  },
  {
   "cell_type": "code",
   "execution_count": 11,
   "metadata": {},
   "outputs": [
    {
     "data": {
      "text/plain": [
       "0      0.000000\n",
       "1     -1.124782\n",
       "2     -1.468500\n",
       "3     -4.393389\n",
       "4     -3.856404\n",
       "        ...    \n",
       "84   -36.446751\n",
       "85   -38.222802\n",
       "86   -39.702061\n",
       "87   -41.807640\n",
       "88   -43.775383\n",
       "Name: x_loc, Length: 89, dtype: float64"
      ]
     },
     "execution_count": 11,
     "metadata": {},
     "output_type": "execute_result"
    }
   ],
   "source": [
    "df['x_loc']"
   ]
  },
  {
   "cell_type": "code",
   "execution_count": null,
   "metadata": {},
   "outputs": [],
   "source": []
  }
 ],
 "metadata": {
  "kernelspec": {
   "display_name": "Python 3",
   "language": "python",
   "name": "python3"
  },
  "language_info": {
   "codemirror_mode": {
    "name": "ipython",
    "version": 3
   },
   "file_extension": ".py",
   "mimetype": "text/x-python",
   "name": "python",
   "nbconvert_exporter": "python",
   "pygments_lexer": "ipython3",
   "version": "3.12.2"
  }
 },
 "nbformat": 4,
 "nbformat_minor": 2
}
